{
 "cells": [
  {
   "cell_type": "markdown",
   "metadata": {},
   "source": [
    "# Mobile App for Lottery Addiction\n",
    "\n",
    "A medical institute that aims to prevent and treat gambling addictions wants to build a dedicated mobile app to help lottery addicts better estimate their chances of winning. The institute has a team of engineers that will build the app, but they need me to create the logical core of the app and calculate probabilities.\n",
    "\n",
    "For the first version of the app, they want us to focus on the [6/49 lottery](https://en.wikipedia.org/wiki/Lotto_6/49) and build functions that enable users to answer questions like:\n",
    "\n",
    "- What is the probability of winning the big prize with a single ticket?\n",
    "- What is the probability of winning the big prize if we play 40 different tickets (or any other number)?\n",
    "- What is the probability of having at least five (or four, or three, or two) winning numbers on a single ticket?\n",
    "\n",
    "[The data set](https://www.kaggle.com/datascienceai/lottery-dataset) I use comes from the national 6/49 lottery game in Canada. It contains data for 3,665 drawings, dating from 1982 to 2018\n",
    "\n",
    "### Summary of results\n",
    "\n",
    "In this project, I have written 4 different functions for calculating the probability of winning the Canada 6/49 lottory, which are:\n",
    "- one_ticket_probability() — calculates the probability of winning the big prize with a single ticket\n",
    "- check_historical_occurrence() — checks whether a certain combination has occurred in the - Canada lottery data set\n",
    "- multi_ticket_probability() — calculates the probability for any number of of tickets between 1 and 13,983,816\n",
    "- probability_less_6() — calculates the probability of having two, three, four or five winning numbers"
   ]
  },
  {
   "cell_type": "markdown",
   "metadata": {},
   "source": [
    "## Core statistic functions \n",
    "\n",
    "I am going to define two functions for the calculation in the later session, A function that calculates factorials; and a function that calculates combinations."
   ]
  },
  {
   "cell_type": "code",
   "execution_count": 37,
   "metadata": {
    "collapsed": true
   },
   "outputs": [],
   "source": [
    "# define factorial function\n",
    "def factorial(n):\n",
    "    result = 1\n",
    "    for i in range(1,(n+1)):\n",
    "        result *= i\n",
    "    return result\n",
    "\n",
    "# define combinations function\n",
    "def combinations(n,k):\n",
    "    result = factorial(n)/(factorial(k)*factorial(n-k))\n",
    "    return result"
   ]
  },
  {
   "cell_type": "markdown",
   "metadata": {},
   "source": [
    "## Rules of 6/49 lottery\n",
    "\n",
    "In the 6/49 lottery, six numbers are drawn from a set of 49 numbers that range from 1 to 49. A player wins the big prize if the six numbers on their tickets match all the six numbers drawn. If a player has a ticket with the numbers {13, 22, 24, 27, 42, 44}, he only wins the big prize if the numbers drawn are {13, 22, 24, 27, 42, 44}. If only one number differs, he doesn't win."
   ]
  },
  {
   "cell_type": "markdown",
   "metadata": {},
   "source": [
    "## One-ticket Probability\n",
    "\n",
    "For the first version of the app, The institute want players to be able to calculate the probability of winning the big prize with the various numbers they play on a single ticket (for each ticket a player chooses six numbers out of 49). So, I'll start by building a function that calculates the probability of winning the big prize for any given ticket.\n",
    "\n",
    "The following details need to be awared for the function:\n",
    "\n",
    "- Inside the app, the user inputs six different numbers from 1 to 49.\n",
    "= Under the hood, the six numbers will come as a Python list, which will serve as the single input to our function.\n",
    "- The engineering team wants the function to print the probability value in a friendly way — in a way that people without any probability training are able to understand.."
   ]
  },
  {
   "cell_type": "code",
   "execution_count": 38,
   "metadata": {
    "collapsed": false
   },
   "outputs": [],
   "source": [
    "def one_ticket_probability(a,b,c,d,e,f):\n",
    "    input_num = (a,b,c,d,e,f)\n",
    "    num_of_possible_outcome = combinations(49,6)\n",
    "    probability_precent = (1/num_of_possible_outcome) * 100\n",
    "    return print(\n",
    "        '''For the numbers {}, you have {:.7f}% of winning the big prize.\n",
    "It means, you have 1 in {:,} chances to win.'''\n",
    "        .format(input_num, probability_precent, int(num_of_possible_outcome)))"
   ]
  },
  {
   "cell_type": "markdown",
   "metadata": {},
   "source": [
    "Now I will test the function with two different inputs"
   ]
  },
  {
   "cell_type": "code",
   "execution_count": 39,
   "metadata": {
    "collapsed": false
   },
   "outputs": [
    {
     "name": "stdout",
     "output_type": "stream",
     "text": [
      "For the numbers (1, 2, 3, 4, 5, 6), you have 0.0000072% of winning the big prize.\n",
      "It means, you have 1 in 13,983,816 chances to win.\n"
     ]
    }
   ],
   "source": [
    "one_ticket_probability(1,2,3,4,5,6)"
   ]
  },
  {
   "cell_type": "code",
   "execution_count": 40,
   "metadata": {
    "collapsed": false
   },
   "outputs": [
    {
     "name": "stdout",
     "output_type": "stream",
     "text": [
      "For the numbers (2, 35, 19, 23, 6, 8), you have 0.0000072% of winning the big prize.\n",
      "It means, you have 1 in 13,983,816 chances to win.\n"
     ]
    }
   ],
   "source": [
    "one_ticket_probability(2,35,19,23,6,8)"
   ]
  },
  {
   "cell_type": "markdown",
   "metadata": {
    "collapsed": true
   },
   "source": [
    "## Exploring the historical data\n",
    "\n",
    "Now I will focus on the historial data coming from the Canada 6/49 lottery."
   ]
  },
  {
   "cell_type": "code",
   "execution_count": 41,
   "metadata": {
    "collapsed": false
   },
   "outputs": [
    {
     "name": "stdout",
     "output_type": "stream",
     "text": [
      "(3665, 11)\n"
     ]
    }
   ],
   "source": [
    "# read in data set\n",
    "import pandas as pd\n",
    "data = pd.read_csv('649.csv')\n",
    "\n",
    "# quick exploration of the data\n",
    "print(data.shape)"
   ]
  },
  {
   "cell_type": "code",
   "execution_count": 42,
   "metadata": {
    "collapsed": false
   },
   "outputs": [
    {
     "name": "stdout",
     "output_type": "stream",
     "text": [
      "   PRODUCT  DRAW NUMBER  SEQUENCE NUMBER  DRAW DATE  NUMBER DRAWN 1  \\\n",
      "0      649            1                0  6/12/1982               3   \n",
      "1      649            2                0  6/19/1982               8   \n",
      "2      649            3                0  6/26/1982               1   \n",
      "\n",
      "   NUMBER DRAWN 2  NUMBER DRAWN 3  NUMBER DRAWN 4  NUMBER DRAWN 5  \\\n",
      "0              11              12              14              41   \n",
      "1              33              36              37              39   \n",
      "2               6              23              24              27   \n",
      "\n",
      "   NUMBER DRAWN 6  BONUS NUMBER  \n",
      "0              43            13  \n",
      "1              41             9  \n",
      "2              39            34  \n"
     ]
    }
   ],
   "source": [
    "print(data.head(3))"
   ]
  },
  {
   "cell_type": "code",
   "execution_count": 43,
   "metadata": {
    "collapsed": false
   },
   "outputs": [
    {
     "name": "stdout",
     "output_type": "stream",
     "text": [
      "      PRODUCT  DRAW NUMBER  SEQUENCE NUMBER  DRAW DATE  NUMBER DRAWN 1  \\\n",
      "3662      649         3589                0  6/13/2018               6   \n",
      "3663      649         3590                0  6/16/2018               2   \n",
      "3664      649         3591                0  6/20/2018              14   \n",
      "\n",
      "      NUMBER DRAWN 2  NUMBER DRAWN 3  NUMBER DRAWN 4  NUMBER DRAWN 5  \\\n",
      "3662              22              24              31              32   \n",
      "3663              15              21              31              38   \n",
      "3664              24              31              35              37   \n",
      "\n",
      "      NUMBER DRAWN 6  BONUS NUMBER  \n",
      "3662              34            16  \n",
      "3663              49             8  \n",
      "3664              48            17  \n"
     ]
    }
   ],
   "source": [
    "print(data.tail(3))"
   ]
  },
  {
   "cell_type": "markdown",
   "metadata": {},
   "source": [
    "## Function comparing the ticket against historical data\n",
    "\n",
    "In this session, I'm going to write a function that will enable users to compare their ticket against the historical lottery data in Canada and determine whether they would have ever won by now.\n",
    "\n",
    "The following details have been given:\n",
    "\n",
    "- Inside the app, the user inputs six different numbers from 1 to 49.\n",
    "- Under the hood, the six numbers will come as a Python list and serve as an input to my function.\n",
    "- The engineering team wants me to write a function that prints:\n",
    "    - the number of times the combination selected occurred in the Canada data set; and\n",
    "    - the probability of winning the big prize in the next drawing with that combination"
   ]
  },
  {
   "cell_type": "code",
   "execution_count": 44,
   "metadata": {
    "collapsed": false
   },
   "outputs": [
    {
     "data": {
      "text/plain": [
       "0    {3, 41, 11, 12, 43, 14}\n",
       "1    {33, 36, 37, 39, 8, 41}\n",
       "2     {1, 6, 39, 23, 24, 27}\n",
       "3     {3, 9, 10, 43, 13, 20}\n",
       "4    {34, 5, 14, 47, 21, 31}\n",
       "dtype: object"
      ]
     },
     "execution_count": 44,
     "metadata": {},
     "output_type": "execute_result"
    }
   ],
   "source": [
    "# write function that extract the winning six numbers from row\n",
    "def extract_numbers(row):\n",
    "    numbers = set(row[4:10].values)\n",
    "    return numbers\n",
    "\n",
    "# extract winning numbers\n",
    "winning_numbers = data.apply(extract_numbers, axis = 1)\n",
    "winning_numbers.head()"
   ]
  },
  {
   "cell_type": "code",
   "execution_count": 45,
   "metadata": {
    "collapsed": false
   },
   "outputs": [],
   "source": [
    "# write function that compare the user numbers and the historical data\n",
    "def check_historical_occurence(user_numbers, historical_numbers):\n",
    "    user_numbers = set(user_numbers)\n",
    "    number_of_occurence = historical_numbers == user_numbers\n",
    "    if number_of_occurence.sum() == 0:\n",
    "        return print(\n",
    "            '''The combination you entered has never occurred in the history of the Canada 6/49 lottory.\n",
    "It does not increase/decrease the chance of winning the big prize with this combination in the future.\n",
    "Your chance of winning the big prize with a single ticket is still 1 in 13,983,816 chances.'''\n",
    "                    )\n",
    "    else:\n",
    "        return print(\n",
    "            '''The combination you entered has occurred {} times in the history of the Canada 6/49 lottory.\n",
    "It does not increase/decrease the chanece of winning the big prize with this combination in the futrue.\n",
    "Your chance of winning the big prize with a single ticket is still 1 in 13,983,816 chances.'''\n",
    "            .format(number_of_occurence.sum())\n",
    "                    )"
   ]
  },
  {
   "cell_type": "code",
   "execution_count": 46,
   "metadata": {
    "collapsed": false
   },
   "outputs": [
    {
     "name": "stdout",
     "output_type": "stream",
     "text": [
      "The combination you entered has occurred 1 times in the history of the Canada 6/49 lottory.\n",
      "It does not increase/decrease the chanece of winning the big prize with this combination in the futrue.\n",
      "Your chance of winning the big prize with a single ticket is still 1 in 13,983,816 chances.\n"
     ]
    }
   ],
   "source": [
    "# test 1\n",
    "test_1 = {3, 41, 11, 12, 43, 14} # winning number of 6/13/1982\n",
    "check_historical_occurence(test_1,winning_numbers)"
   ]
  },
  {
   "cell_type": "code",
   "execution_count": 47,
   "metadata": {
    "collapsed": false
   },
   "outputs": [
    {
     "name": "stdout",
     "output_type": "stream",
     "text": [
      "The combination you entered has never occurred in the history of the Canada 6/49 lottory.\n",
      "It does not increase/decrease the chance of winning the big prize with this combination in the future.\n",
      "Your chance of winning the big prize with a single ticket is still 1 in 13,983,816 chances.\n"
     ]
    }
   ],
   "source": [
    "# test 2\n",
    "test_1 = {13, 21, 13, 12, 43, 14}\n",
    "check_historical_occurence(test_1,winning_numbers)"
   ]
  },
  {
   "cell_type": "markdown",
   "metadata": {},
   "source": [
    "## Multi-ticket Probability\n",
    "\n",
    "In this session, I am going to write a function that will allow the users to calculate the chances of winning for any number of different tickets.\n",
    "\n",
    "The following information is given:\n",
    "\n",
    "- The user will input the number of different tickets they want to play (without inputting the specific combinations they intend to play).\n",
    "- The function will see an integer between 1 and 13,983,816 (the maximum number of different tickets).\n",
    "- The function should print information about the probability of winning the big prize depending on the number of different tickets played."
   ]
  },
  {
   "cell_type": "code",
   "execution_count": 48,
   "metadata": {
    "collapsed": true
   },
   "outputs": [],
   "source": [
    "# write function for Multi-ticket Probability check\n",
    "def multi_ticket_probability(n):\n",
    "    num_of_outcomes = combinations(49,6)\n",
    "    probability_percent = (n / num_of_outcomes) * 100\n",
    "    return print(\n",
    "        '''If you buy {} ticket(s), the chance of winning the big prize is {:.7f}%.\n",
    "Which means there is 1 in {} chances that you win.'''.format(n, probability_percent, int(num_of_outcomes/n))\n",
    "                )"
   ]
  },
  {
   "cell_type": "code",
   "execution_count": 49,
   "metadata": {
    "collapsed": false
   },
   "outputs": [
    {
     "name": "stdout",
     "output_type": "stream",
     "text": [
      "If you buy 1 ticket(s), the chance of winning the big prize is 0.0000072%.\n",
      "Which means there is 1 in 13983816 chances that you win.\n"
     ]
    }
   ],
   "source": [
    "# test 1\n",
    "multi_ticket_probability(1)"
   ]
  },
  {
   "cell_type": "code",
   "execution_count": 50,
   "metadata": {
    "collapsed": false
   },
   "outputs": [
    {
     "name": "stdout",
     "output_type": "stream",
     "text": [
      "If you buy 10 ticket(s), the chance of winning the big prize is 0.0000715%.\n",
      "Which means there is 1 in 1398381 chances that you win.\n"
     ]
    }
   ],
   "source": [
    "# test 2\n",
    "multi_ticket_probability(10)"
   ]
  },
  {
   "cell_type": "code",
   "execution_count": 51,
   "metadata": {
    "collapsed": false
   },
   "outputs": [
    {
     "name": "stdout",
     "output_type": "stream",
     "text": [
      "If you buy 100 ticket(s), the chance of winning the big prize is 0.0007151%.\n",
      "Which means there is 1 in 139838 chances that you win.\n"
     ]
    }
   ],
   "source": [
    "# test 3\n",
    "multi_ticket_probability(100)"
   ]
  },
  {
   "cell_type": "code",
   "execution_count": 52,
   "metadata": {
    "collapsed": false
   },
   "outputs": [
    {
     "name": "stdout",
     "output_type": "stream",
     "text": [
      "If you buy 10000 ticket(s), the chance of winning the big prize is 0.0715112%.\n",
      "Which means there is 1 in 1398 chances that you win.\n"
     ]
    }
   ],
   "source": [
    "# test 4\n",
    "multi_ticket_probability(10000)"
   ]
  },
  {
   "cell_type": "code",
   "execution_count": 53,
   "metadata": {
    "collapsed": false
   },
   "outputs": [
    {
     "name": "stdout",
     "output_type": "stream",
     "text": [
      "If you buy 6991908 ticket(s), the chance of winning the big prize is 50.0000000%.\n",
      "Which means there is 1 in 2 chances that you win.\n"
     ]
    }
   ],
   "source": [
    "# test 5\n",
    "multi_ticket_probability(6991908)"
   ]
  },
  {
   "cell_type": "code",
   "execution_count": 54,
   "metadata": {
    "collapsed": false
   },
   "outputs": [
    {
     "name": "stdout",
     "output_type": "stream",
     "text": [
      "If you buy 13983816 ticket(s), the chance of winning the big prize is 100.0000000%.\n",
      "Which means there is 1 in 1 chances that you win.\n"
     ]
    }
   ],
   "source": [
    "# test 6\n",
    "multi_ticket_probability(13983816)"
   ]
  },
  {
   "cell_type": "markdown",
   "metadata": {
    "collapsed": true
   },
   "source": [
    "# Second prize or below\n",
    "\n",
    "In this session, I am going to write one more function to allow the users to calculate probabilities for two, three, four, or five winning numbers.\n",
    "\n",
    "For extra context, in most 6/49 lotteries there are smaller prizes if a player's ticket match two, three, four, or five of the six numbers drawn. As a consequence, the users might be interested in knowing the probability of having two, three, four, or five winning numbers.\n",
    "\n",
    "These are the engineering details need to be aware of:\n",
    "\n",
    "- Inside the app, the user inputs:\n",
    "    - six different numbers from 1 to 49; and\n",
    "    - an integer between 2 and 5 that represents the number of winning numbers expected\n",
    "- Our function prints information about the probability of having the inputted number of winning numbers."
   ]
  },
  {
   "cell_type": "code",
   "execution_count": 55,
   "metadata": {
    "collapsed": true
   },
   "outputs": [],
   "source": [
    "# write function to find the probability of winning second prize of lower\n",
    "def probability_less_6(prize_number):\n",
    "    n = prize_number\n",
    "    num_of_winning_outcomes = combinations(6,n) * combinations(43,6-n)\n",
    "    total_outcomes = combinations(49,6)\n",
    "    probability = num_of_winning_outcomes / total_outcomes\n",
    "    percent = probability * 100\n",
    "    return print('''The chance of having {} winning numbers is {:7f}%.\n",
    "Which means there is 1 in {} chances that you win.'''\n",
    "                 .format(n, percent, int(total_outcomes/num_of_winning_outcomes))\n",
    "                )"
   ]
  },
  {
   "cell_type": "code",
   "execution_count": 56,
   "metadata": {
    "collapsed": false
   },
   "outputs": [
    {
     "name": "stdout",
     "output_type": "stream",
     "text": [
      "The chance of having 2 winning numbers is 13.237803%.\n",
      "Which means there is 1 in 7 chances that you win.\n"
     ]
    }
   ],
   "source": [
    "# test 1 2 winning numbers\n",
    "probability_less_6(2)"
   ]
  },
  {
   "cell_type": "code",
   "execution_count": 57,
   "metadata": {
    "collapsed": false
   },
   "outputs": [
    {
     "name": "stdout",
     "output_type": "stream",
     "text": [
      "The chance of having 3 winning numbers is 1.765040%.\n",
      "Which means there is 1 in 56 chances that you win.\n"
     ]
    }
   ],
   "source": [
    "# test 2 3 winning numbers\n",
    "probability_less_6(3)"
   ]
  },
  {
   "cell_type": "code",
   "execution_count": 58,
   "metadata": {
    "collapsed": false
   },
   "outputs": [
    {
     "name": "stdout",
     "output_type": "stream",
     "text": [
      "The chance of having 4 winning numbers is 0.096862%.\n",
      "Which means there is 1 in 1032 chances that you win.\n"
     ]
    }
   ],
   "source": [
    "# test 3 4 winning numbers\n",
    "probability_less_6(4)"
   ]
  },
  {
   "cell_type": "code",
   "execution_count": 59,
   "metadata": {
    "collapsed": false
   },
   "outputs": [
    {
     "name": "stdout",
     "output_type": "stream",
     "text": [
      "The chance of having 5 winning numbers is 0.001845%.\n",
      "Which means there is 1 in 54200 chances that you win.\n"
     ]
    }
   ],
   "source": [
    "# test 4 5 winning numbers\n",
    "probability_less_6(5)"
   ]
  },
  {
   "cell_type": "markdown",
   "metadata": {},
   "source": [
    "## Conclusion\n",
    "\n",
    "In this project, I have written 4 different functions for calculating the probability of winning the Canada 6/49 lottory, which are:\n",
    "- one_ticket_probability() — calculates the probability of winning the big prize with a single ticket\n",
    "- check_historical_occurrence() — checks whether a certain combination has occurred in the - Canada lottery data set\n",
    "- multi_ticket_probability() — calculates the probability for any number of of tickets between 1 and 13,983,816\n",
    "- probability_less_6() — calculates the probability of having two, three, four or five winning numbers"
   ]
  },
  {
   "cell_type": "markdown",
   "metadata": {},
   "source": [
    "## Further development\n",
    "\n",
    "Possible features for a second version of the app include:\n",
    "\n",
    "- Making the outputs even easier to understand by adding fun analogies (for example, we can find probabilities for strange events and compare with the chances of winning in lottery; for instance, we can output something along the lines \"You are 100 times more likely to be the victim of a shark attack than winning the lottery\").\n",
    "- Combining the one_ticket_probability() and check_historical_occurrence() to output information on probability and historical occurrence at the same time.\n",
    "- Creating a function similar to probability_less_6() which calculates the probability of having at least two, three, four or five winning numbers. Hint: the number of successful outcomes for having at least four winning numbers is the sum of these three numbers:\n",
    "    - The number of successful outcomes for having four winning numbers exactly\n",
    "    - The number of successful outcomes for having five winning numbers exactly\n",
    "    - The number of successful outcomes for having six winning numbers exactly"
   ]
  }
 ],
 "metadata": {
  "kernelspec": {
   "display_name": "Python 3",
   "language": "python",
   "name": "python3"
  },
  "language_info": {
   "codemirror_mode": {
    "name": "ipython",
    "version": 3
   },
   "file_extension": ".py",
   "mimetype": "text/x-python",
   "name": "python",
   "nbconvert_exporter": "python",
   "pygments_lexer": "ipython3",
   "version": "3.4.3"
  }
 },
 "nbformat": 4,
 "nbformat_minor": 2
}
